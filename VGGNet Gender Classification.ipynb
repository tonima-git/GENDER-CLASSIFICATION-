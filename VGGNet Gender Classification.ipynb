{
 "cells": [
  {
   "cell_type": "code",
   "execution_count": 1,
   "metadata": {},
   "outputs": [
    {
     "name": "stderr",
     "output_type": "stream",
     "text": [
      "Using TensorFlow backend.\n"
     ]
    }
   ],
   "source": [
    "import keras\n",
    "from keras.models import Sequential\n",
    "from keras.layers.normalization import BatchNormalization\n",
    "from keras.layers.convolutional import Conv2D\n",
    "from keras.layers.convolutional import MaxPooling2D\n",
    "from keras.layers.core import Activation\n",
    "from keras.layers.core import Flatten\n",
    "from keras.layers.core import Dropout\n",
    "from keras.layers.core import Dense\n",
    "from keras import backend as K"
   ]
  },
  {
   "cell_type": "code",
   "execution_count": 2,
   "metadata": {},
   "outputs": [],
   "source": [
    "class SmallVGGNet:\n",
    "    @staticmethod\n",
    "    def build(width, height, depth, classes):\n",
    "       \n",
    "        model = Sequential()   \n",
    "        inputShape = (height, width, depth)\n",
    "        chanDim = -1\n",
    "\n",
    "        if K.image_data_format() == \"channels_first\":   \n",
    "            inputShape = (depth, height, width)\n",
    "            chanDim = 1\n",
    "\n",
    "        # CONV => RELU => POOL layer set              \n",
    "        model.add(Conv2D(32, (3, 3), padding=\"same\", input_shape=inputShape))\n",
    "        model.add(Activation(\"relu\"))                 \n",
    "        model.add(BatchNormalization(axis=chanDim))   \n",
    "        model.add(MaxPooling2D(pool_size=(2, 2)))     \n",
    "        model.add(Dropout(0.25))                      \n",
    "        # (CONV => RELU) * 2 => POOL layer set          \n",
    "        model.add(Conv2D(64, (3, 3), padding=\"same\"))   \n",
    "        model.add(Activation(\"relu\"))\n",
    "        model.add(BatchNormalization(axis=chanDim))\n",
    "        model.add(Conv2D(64, (3, 3), padding=\"same\"))\n",
    "        model.add(Activation(\"relu\"))\n",
    "        model.add(BatchNormalization(axis=chanDim))\n",
    "        model.add(MaxPooling2D(pool_size=(2, 2)))\n",
    "        model.add(Dropout(0.25))\n",
    "\n",
    "        # (CONV => RELU) * 3 => POOL layer set\n",
    "        model.add(Conv2D(128, (3, 3), padding=\"same\"))   \n",
    "        model.add(Activation(\"relu\"))\n",
    "        model.add(BatchNormalization(axis=chanDim))\n",
    "        model.add(Conv2D(128, (3, 3), padding=\"same\"))\n",
    "        model.add(Activation(\"relu\"))\n",
    "        model.add(BatchNormalization(axis=chanDim))\n",
    "        model.add(Conv2D(128, (3, 3), padding=\"same\"))\n",
    "        model.add(Activation(\"relu\"))\n",
    "        model.add(BatchNormalization(axis=chanDim))\n",
    "        model.add(MaxPooling2D(pool_size=(2, 2)))\n",
    "        model.add(Dropout(0.25))\n",
    "\n",
    "        # first (and only) set of fully connected layer (FC) => RELU layers\n",
    "        model.add(Flatten())\n",
    "        model.add(Dense(512))\n",
    "        model.add(Activation(\"relu\"))\n",
    "        model.add(BatchNormalization())\n",
    "        model.add(Dropout(0.5))\n",
    "\n",
    "        # softmax classifier\n",
    "        model.add(Dense(classes))\n",
    "        model.add(Activation(\"softmax\"))\n",
    "\n",
    "        # return the constructed network architecture\n",
    "        return model"
   ]
  },
  {
   "cell_type": "code",
   "execution_count": 3,
   "metadata": {},
   "outputs": [],
   "source": [
    "from sklearn.preprocessing import LabelBinarizer\n",
    "from sklearn.model_selection import train_test_split\n",
    "from sklearn.metrics import classification_report\n",
    "from keras.preprocessing.image import ImageDataGenerator\n",
    "from keras.optimizers import SGD\n",
    "from imutils import paths\n",
    "import matplotlib as plt\n",
    "import matplotlib.pyplot as plt\n",
    "%matplotlib inline\n",
    "import numpy as np\n",
    "import random\n",
    "import pickle\n",
    "import cv2\n",
    "import os\n",
    "import warnings\n",
    "warnings.filterwarnings(\"ignore\")"
   ]
  },
  {
   "cell_type": "code",
   "execution_count": 8,
   "metadata": {},
   "outputs": [
    {
     "name": "stdout",
     "output_type": "stream",
     "text": [
      "[INFO] loading images...\n",
      "done\n"
     ]
    }
   ],
   "source": [
    "print(\"[INFO] loading images...\")\n",
    "images = []\n",
    "labels = []\n",
    "\n",
    "\n",
    "imagePaths = sorted(list(paths.list_images('gender_dataset_face')))\n",
    "random.seed(42)\n",
    "random.shuffle(imagePaths)\n",
    "\n",
    "\n",
    "for imagePath in imagePaths:\n",
    "    \n",
    "    image = cv2.imread(imagePath)\n",
    "    image = cv2.resize(image, (64, 64))   \n",
    "    images.append(image)\n",
    "\n",
    "    \n",
    "    label = imagePath.split(os.path.sep)[-2]\n",
    "    labels.append(label)\n",
    "\n",
    "\n",
    "images = np.array(images, dtype=\"float\") / 255.0\n",
    "labels = np.array(labels)\n",
    "\n",
    "print('done')"
   ]
  },
  {
   "cell_type": "code",
   "execution_count": 9,
   "metadata": {},
   "outputs": [
    {
     "data": {
      "text/plain": [
       "array(['woman', 'woman', 'man', ..., 'man', 'man', 'man'], dtype='<U5')"
      ]
     },
     "execution_count": 9,
     "metadata": {},
     "output_type": "execute_result"
    }
   ],
   "source": [
    "(trainX, testX, trainY, testY) = train_test_split(images,labels, test_size=0.2, random_state=42)\n",
    "\n",
    "# before transformation\n",
    "trainY"
   ]
  },
  {
   "cell_type": "code",
   "execution_count": 10,
   "metadata": {},
   "outputs": [
    {
     "data": {
      "text/plain": [
       "array([[1],\n",
       "       [1],\n",
       "       [0],\n",
       "       ...,\n",
       "       [0],\n",
       "       [0],\n",
       "       [0]])"
      ]
     },
     "execution_count": 10,
     "metadata": {},
     "output_type": "execute_result"
    }
   ],
   "source": [
    "lb = LabelBinarizer()\n",
    "trainY = lb.fit_transform(trainY)\n",
    "testY = lb.transform(testY)\n",
    "\n",
    "# after transformation\n",
    "trainY"
   ]
  },
  {
   "cell_type": "code",
   "execution_count": 11,
   "metadata": {},
   "outputs": [
    {
     "name": "stdout",
     "output_type": "stream",
     "text": [
      "[INFO] training network...\n",
      "Epoch 1/50\n",
      "43/43 [==============================] - 173s 4s/step - loss: 0.9932 - accuracy: 0.6023 - val_loss: 0.6866 - val_accuracy: 0.5043\n",
      "Epoch 2/50\n",
      "43/43 [==============================] - 162s 4s/step - loss: 0.7069 - accuracy: 0.6938 - val_loss: 0.8426 - val_accuracy: 0.4978\n",
      "Epoch 3/50\n",
      "43/43 [==============================] - 165s 4s/step - loss: 0.6005 - accuracy: 0.7399 - val_loss: 0.7603 - val_accuracy: 0.4978\n",
      "Epoch 4/50\n",
      "43/43 [==============================] - 164s 4s/step - loss: 0.4744 - accuracy: 0.7913 - val_loss: 0.9092 - val_accuracy: 0.4978\n",
      "Epoch 5/50\n",
      "43/43 [==============================] - 160s 4s/step - loss: 0.4399 - accuracy: 0.8167 - val_loss: 0.9551 - val_accuracy: 0.5000\n",
      "\n",
      "Epoch 00005: ReduceLROnPlateau reducing learning rate to 0.004999999888241291.\n",
      "Epoch 6/50\n",
      "43/43 [==============================] - 111s 3s/step - loss: 0.4141 - accuracy: 0.8134 - val_loss: 1.1039 - val_accuracy: 0.4978\n",
      "Epoch 7/50\n",
      "43/43 [==============================] - 117s 3s/step - loss: 0.4172 - accuracy: 0.8122 - val_loss: 0.7151 - val_accuracy: 0.5519\n",
      "Epoch 8/50\n",
      "43/43 [==============================] - 119s 3s/step - loss: 0.3881 - accuracy: 0.8347 - val_loss: 0.6558 - val_accuracy: 0.6147\n",
      "Epoch 9/50\n",
      "43/43 [==============================] - 115s 3s/step - loss: 0.3901 - accuracy: 0.8342 - val_loss: 0.6076 - val_accuracy: 0.7121\n",
      "Epoch 10/50\n",
      "43/43 [==============================] - 118s 3s/step - loss: 0.3685 - accuracy: 0.8441 - val_loss: 0.3791 - val_accuracy: 0.8247\n",
      "Epoch 11/50\n",
      "43/43 [==============================] - 120s 3s/step - loss: 0.3718 - accuracy: 0.8342 - val_loss: 0.3839 - val_accuracy: 0.8203\n",
      "Epoch 12/50\n",
      "43/43 [==============================] - 125s 3s/step - loss: 0.3606 - accuracy: 0.8488 - val_loss: 0.3468 - val_accuracy: 0.8333\n",
      "Epoch 13/50\n",
      "43/43 [==============================] - 122s 3s/step - loss: 0.3407 - accuracy: 0.8628 - val_loss: 0.2806 - val_accuracy: 0.8874\n",
      "Epoch 14/50\n",
      "43/43 [==============================] - 158s 4s/step - loss: 0.3525 - accuracy: 0.8444 - val_loss: 0.2755 - val_accuracy: 0.8983\n",
      "Epoch 15/50\n",
      "43/43 [==============================] - 170s 4s/step - loss: 0.3384 - accuracy: 0.8552 - val_loss: 0.2369 - val_accuracy: 0.9048\n",
      "Epoch 16/50\n",
      "43/43 [==============================] - 169s 4s/step - loss: 0.3378 - accuracy: 0.8528 - val_loss: 0.2386 - val_accuracy: 0.9026\n",
      "Epoch 17/50\n",
      "43/43 [==============================] - 177s 4s/step - loss: 0.3267 - accuracy: 0.8652 - val_loss: 0.2633 - val_accuracy: 0.8810\n",
      "Epoch 18/50\n",
      "43/43 [==============================] - 174s 4s/step - loss: 0.3212 - accuracy: 0.8566 - val_loss: 0.2311 - val_accuracy: 0.9048\n",
      "Epoch 19/50\n",
      "43/43 [==============================] - 167s 4s/step - loss: 0.3471 - accuracy: 0.8491 - val_loss: 0.2689 - val_accuracy: 0.9026\n",
      "Epoch 20/50\n",
      "43/43 [==============================] - 172s 4s/step - loss: 0.3088 - accuracy: 0.8644 - val_loss: 0.2230 - val_accuracy: 0.9134\n",
      "Epoch 21/50\n",
      "43/43 [==============================] - 172s 4s/step - loss: 0.3006 - accuracy: 0.8752 - val_loss: 0.2386 - val_accuracy: 0.9091\n",
      "Epoch 22/50\n",
      "43/43 [==============================] - 169s 4s/step - loss: 0.3196 - accuracy: 0.8760 - val_loss: 0.2780 - val_accuracy: 0.8853\n",
      "Epoch 23/50\n",
      "43/43 [==============================] - 168s 4s/step - loss: 0.3168 - accuracy: 0.8594 - val_loss: 0.2357 - val_accuracy: 0.9004\n",
      "Epoch 24/50\n",
      "43/43 [==============================] - 169s 4s/step - loss: 0.3013 - accuracy: 0.8704 - val_loss: 0.2331 - val_accuracy: 0.9048\n",
      "\n",
      "Epoch 00024: ReduceLROnPlateau reducing learning rate to 0.0024999999441206455.\n",
      "Epoch 25/50\n",
      "43/43 [==============================] - 136s 3s/step - loss: 0.3153 - accuracy: 0.8602 - val_loss: 0.2066 - val_accuracy: 0.9221\n",
      "Epoch 26/50\n",
      "43/43 [==============================] - 106s 2s/step - loss: 0.2880 - accuracy: 0.8824 - val_loss: 0.2136 - val_accuracy: 0.9069\n",
      "Epoch 27/50\n",
      "43/43 [==============================] - 106s 2s/step - loss: 0.2813 - accuracy: 0.8800 - val_loss: 0.2255 - val_accuracy: 0.9091\n",
      "Epoch 28/50\n",
      "43/43 [==============================] - 110s 3s/step - loss: 0.2805 - accuracy: 0.8765 - val_loss: 0.2072 - val_accuracy: 0.9199\n",
      "Epoch 29/50\n",
      "43/43 [==============================] - 104s 2s/step - loss: 0.2690 - accuracy: 0.8852 - val_loss: 0.2162 - val_accuracy: 0.9113\n",
      "\n",
      "Epoch 00029: ReduceLROnPlateau reducing learning rate to 0.0012499999720603228.\n",
      "Epoch 30/50\n",
      "43/43 [==============================] - 105s 2s/step - loss: 0.2926 - accuracy: 0.8747 - val_loss: 0.2113 - val_accuracy: 0.9199\n",
      "Epoch 31/50\n",
      "43/43 [==============================] - 112s 3s/step - loss: 0.2956 - accuracy: 0.8833 - val_loss: 0.2082 - val_accuracy: 0.9264\n",
      "Epoch 32/50\n",
      "43/43 [==============================] - 111s 3s/step - loss: 0.2906 - accuracy: 0.8654 - val_loss: 0.2055 - val_accuracy: 0.9134\n",
      "Epoch 33/50\n",
      "43/43 [==============================] - 111s 3s/step - loss: 0.2658 - accuracy: 0.8918 - val_loss: 0.2046 - val_accuracy: 0.9177\n",
      "Epoch 34/50\n",
      "43/43 [==============================] - 109s 3s/step - loss: 0.2981 - accuracy: 0.8774 - val_loss: 0.2097 - val_accuracy: 0.9048\n",
      "Epoch 35/50\n",
      "43/43 [==============================] - 110s 3s/step - loss: 0.2928 - accuracy: 0.8733 - val_loss: 0.2202 - val_accuracy: 0.9069\n",
      "Epoch 36/50\n",
      "43/43 [==============================] - 107s 2s/step - loss: 0.2879 - accuracy: 0.8787 - val_loss: 0.2171 - val_accuracy: 0.9113\n",
      "Epoch 37/50\n",
      "43/43 [==============================] - 114s 3s/step - loss: 0.2782 - accuracy: 0.8800 - val_loss: 0.2031 - val_accuracy: 0.9199\n",
      "Epoch 38/50\n",
      "43/43 [==============================] - 115s 3s/step - loss: 0.2857 - accuracy: 0.8787 - val_loss: 0.2110 - val_accuracy: 0.9156\n",
      "Epoch 39/50\n",
      "43/43 [==============================] - 116s 3s/step - loss: 0.2727 - accuracy: 0.8874 - val_loss: 0.2028 - val_accuracy: 0.9264\n",
      "Epoch 40/50\n",
      "43/43 [==============================] - 118s 3s/step - loss: 0.2733 - accuracy: 0.8846 - val_loss: 0.2110 - val_accuracy: 0.9134\n",
      "Epoch 41/50\n",
      "43/43 [==============================] - 117s 3s/step - loss: 0.2757 - accuracy: 0.8780 - val_loss: 0.2045 - val_accuracy: 0.9199\n",
      "Epoch 42/50\n",
      "43/43 [==============================] - 120s 3s/step - loss: 0.2695 - accuracy: 0.8902 - val_loss: 0.2055 - val_accuracy: 0.9156\n",
      "Epoch 43/50\n",
      "43/43 [==============================] - 125s 3s/step - loss: 0.2573 - accuracy: 0.8918 - val_loss: 0.2201 - val_accuracy: 0.9048\n",
      "\n",
      "Epoch 00043: ReduceLROnPlateau reducing learning rate to 0.0006249999860301614.\n",
      "Epoch 44/50\n",
      "43/43 [==============================] - 96s 2s/step - loss: 0.2771 - accuracy: 0.8830 - val_loss: 0.2124 - val_accuracy: 0.9091\n",
      "Epoch 45/50\n",
      "43/43 [==============================] - 91s 2s/step - loss: 0.2829 - accuracy: 0.8802 - val_loss: 0.2058 - val_accuracy: 0.9134\n",
      "Epoch 46/50\n",
      "43/43 [==============================] - 102s 2s/step - loss: 0.2915 - accuracy: 0.8815 - val_loss: 0.2042 - val_accuracy: 0.9134\n",
      "Epoch 47/50\n",
      "43/43 [==============================] - 97s 2s/step - loss: 0.2528 - accuracy: 0.8900 - val_loss: 0.2023 - val_accuracy: 0.9156\n",
      "Epoch 48/50\n",
      "43/43 [==============================] - 113s 3s/step - loss: 0.2742 - accuracy: 0.8857 - val_loss: 0.2016 - val_accuracy: 0.9221\n",
      "Epoch 49/50\n",
      "43/43 [==============================] - 114s 3s/step - loss: 0.2796 - accuracy: 0.8863 - val_loss: 0.2031 - val_accuracy: 0.9177\n",
      "Epoch 50/50\n",
      "43/43 [==============================] - 119s 3s/step - loss: 0.2667 - accuracy: 0.8870 - val_loss: 0.2056 - val_accuracy: 0.9134\n"
     ]
    }
   ],
   "source": [
    "aug = ImageDataGenerator(rotation_range=30, width_shift_range=0.1,\n",
    "                         height_shift_range=0.1, shear_range=0.2, zoom_range=0.2,\n",
    "                         horizontal_flip=True, fill_mode=\"nearest\")\n",
    "\n",
    "\n",
    "model = SmallVGGNet.build(width=64, height=64, depth=3, classes=len(lb.classes_))\n",
    "\n",
    "\n",
    "INIT_LR = 0.01\n",
    "EPOCHS = 50\n",
    "BS = 42\n",
    "\n",
    "print(\"[INFO] training network...\")\n",
    "opt = SGD(lr=INIT_LR, decay=INIT_LR / EPOCHS)\n",
    "model.compile(loss=\"sparse_categorical_crossentropy\", optimizer=opt, metrics=[\"accuracy\"])\n",
    "\n",
    "\n",
    "H = model.fit_generator( aug.flow(trainX, trainY, batch_size=BS),\n",
    "                        validation_data=(testX, testY), steps_per_epoch=len(trainX) // BS, epochs=EPOCHS,\n",
    "                        callbacks=[keras.callbacks.EarlyStopping(patience=11, verbose=1, restore_best_weights=True),\n",
    "                                   keras.callbacks.ReduceLROnPlateau(factor=.5, patience=4, verbose=1)] )\n",
    "\n",
    "model.save('gender_detection1.model')"
   ]
  },
  {
   "cell_type": "code",
   "execution_count": 15,
   "metadata": {},
   "outputs": [
    {
     "name": "stdout",
     "output_type": "stream",
     "text": [
      "Classification Report CNN\n",
      "              precision    recall  f1-score   support\n",
      "\n",
      "         man       1.00      0.56      0.71       462\n",
      "       woman       0.00      0.00      0.00         0\n",
      "\n",
      "    accuracy                           0.56       462\n",
      "   macro avg       0.50      0.28      0.36       462\n",
      "weighted avg       1.00      0.56      0.71       462\n",
      "\n"
     ]
    }
   ],
   "source": [
    "print(\"Classification Report CNN\")\n",
    "predictions = model.predict(testX, batch_size=42)\n",
    "print(classification_report(testY.argmax(axis=1), predictions.argmax(axis=1), target_names=lb.classes_))"
   ]
  },
  {
   "cell_type": "code",
   "execution_count": null,
   "metadata": {},
   "outputs": [],
   "source": []
  },
  {
   "cell_type": "code",
   "execution_count": 19,
   "metadata": {},
   "outputs": [
    {
     "data": {
      "image/png": "[encoded data removed]",
      "text/plain": [
       "<Figure size 432x288 with 1 Axes>"
      ]
     },
     "metadata": {},
     "output_type": "display_data"
    }
   ],
   "source": [
    "plt.style.use(\"ggplot\")\n",
    "plt.figure()\n",
    "N = np.arange(0, EPOCHS)\n",
    "plt.plot(N, H.history[\"loss\"], label=\"train_loss\")\n",
    "plt.plot(N, H.history[\"val_loss\"], label=\"val_loss\")\n",
    "plt.plot(N, H.history[\"val_accuracy\"], label=\"val_accuracy\")\n",
    "plt.plot(N, H.history[\"accuracy\"], label=\"accuracy\")\n",
    "plt.title(\"Training Loss and Accuracy\")\n",
    "plt.xlabel(\"Epochs\")\n",
    "plt.ylabel(\"Loss/Accuracy\")\n",
    "plt.legend(loc=\"upper right\")\n",
    "\n",
    "plt.savefig('plot.png')"
   ]
  },
  {
   "cell_type": "code",
   "execution_count": null,
   "metadata": {},
   "outputs": [],
   "source": []
  },
  {
   "cell_type": "code",
   "execution_count": null,
   "metadata": {},
   "outputs": [],
   "source": []
  },
  {
   "cell_type": "code",
   "execution_count": 13,
   "metadata": {},
   "outputs": [],
   "source": [
    "from tensorflow.keras.preprocessing.image import img_to_array\n",
    "from tensorflow.keras.models import load_model\n",
    "import numpy as np\n",
    "import cv2\n",
    "import os\n",
    "import cvlib as cv"
   ]
  },
  {
   "cell_type": "code",
   "execution_count": 20,
   "metadata": {},
   "outputs": [
    {
     "name": "stdout",
     "output_type": "stream",
     "text": [
      "WARNING:tensorflow:Error in loading the saved optimizer state. As a result, your model is starting with a freshly initialized optimizer.\n"
     ]
    }
   ],
   "source": [
    "model = load_model('gender_detection1.model')\n",
    "\n",
    "webcam = cv2.VideoCapture(0)\n",
    "    "
   ]
  },
  {
   "cell_type": "code",
   "execution_count": null,
   "metadata": {},
   "outputs": [],
   "source": [
    "classes = ['man','woman']\n",
    "\n",
    "while webcam.isOpened():\n",
    " \n",
    "    status, frame = webcam.read()\n",
    "    \n",
    "    face1,confidence1= cv.detect_face(frame)\n",
    "\n",
    "\n",
    "    for idx, f in enumerate(face1):\n",
    "  \n",
    "        (startX, startY) = f[0], f[1]\n",
    "        (endX, endY) = f[2], f[3]\n",
    "\n",
    "        cv2.rectangle(frame, (startX,startY), (endX,endY), (0,255,0), 2)\n",
    "\n",
    "        face_crop = np.copy(frame[startY:endY,startX:endX])\n",
    "\n",
    "        if (face_crop.shape[0]) < 10 or (face_crop.shape[1]) < 10:\n",
    "            continue\n",
    "\n",
    "        face_crop = cv2.resize(face_crop, (96,96))\n",
    "        face_crop = face_crop.astype(\"float\") / 255.0\n",
    "        face_crop = img_to_array(face_crop)\n",
    "        face_crop = np.expand_dims(face_crop, axis=0)\n",
    "\n",
    "        conf = model.predict(face_crop)[0] \n",
    "\n",
    "        idx = np.argmax(conf)\n",
    "        label = classes[idx]\n",
    "\n",
    "        label = \"{}: {:.2f}%\".format(label, conf[idx] * 100)\n",
    "\n",
    "        Y = startY - 10 if startY - 10 > 10 else startY + 10\n",
    "\n",
    "        cv2.putText(frame, label, (startX, Y),  cv2.FONT_HERSHEY_SIMPLEX,\n",
    "                    0.7, (0, 255, 0), 2)\n",
    "        \n",
    "    cv2.imshow(\"gender detection\", frame)\n",
    "\n",
    "    if cv2.waitKey(1) & 0xFF == ord('q'):\n",
    "        break\n",
    "webcam.release()\n",
    "cv2.destroyAllWindows()"
   ]
  },
  {
   "cell_type": "code",
   "execution_count": null,
   "metadata": {},
   "outputs": [],
   "source": []
  },
  {
   "cell_type": "code",
   "execution_count": null,
   "metadata": {},
   "outputs": [],
   "source": []
  },
  {
   "cell_type": "code",
   "execution_count": null,
   "metadata": {},
   "outputs": [],
   "source": []
  },
  {
   "cell_type": "code",
   "execution_count": null,
   "metadata": {},
   "outputs": [],
   "source": []
  },
  {
   "cell_type": "code",
   "execution_count": null,
   "metadata": {},
   "outputs": [],
   "source": []
  }
 ],
 "metadata": {
  "kernelspec": {
   "display_name": "Python 3",
   "language": "python",
   "name": "python3"
  },
  "language_info": {
   "codemirror_mode": {
    "name": "ipython",
    "version": 3
   },
   "file_extension": ".py",
   "mimetype": "text/x-python",
   "name": "python",
   "nbconvert_exporter": "python",
   "pygments_lexer": "ipython3",
   "version": "3.7.4"
  }
 },
 "nbformat": 4,
 "nbformat_minor": 2
}
